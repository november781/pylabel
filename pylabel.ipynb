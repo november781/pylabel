{
 "cells": [
  {
   "cell_type": "code",
   "execution_count": 2,
   "metadata": {},
   "outputs": [],
   "source": [
    "import os\n",
    "import numpy as np\n",
    "import math\n",
    "import matplotlib.pyplot as plt\n",
    "import scipy\n",
    "import sys\n",
    "import time"
   ]
  },
  {
   "cell_type": "markdown",
   "metadata": {},
   "source": [
    "to call numpy use np.X\n",
    "\n",
    "This allows us to avoid having to type numpy.x for every call (there migt be a lot of those calls)"
   ]
  },
  {
   "cell_type": "code",
   "execution_count": 20,
   "metadata": {
    "scrolled": true
   },
   "outputs": [
    {
     "data": {
      "text/plain": [
       "<Figure size 432x288 with 0 Axes>"
      ]
     },
     "metadata": {},
     "output_type": "display_data"
    }
   ],
   "source": [
    "def onpick(event):\n",
    "    selected = event.artist\n",
    "    xdata = selected.get_xdata()\n",
    "    ydata = selected.get_ydata()\n",
    "    points = xdata, ydata\n",
    "    combinedXY = np.dstack((X,Y))\n",
    "    junk, index, junk1 = np.where(combinedXY == (xdata[0],ydata[0]))\n",
    "    #print (xdata,ydata)\n",
    "    #print (index[0])\n",
    "    if TOF[index[0]] != 1:\n",
    "        TOF[index[0]] += 1\n",
    "        event.artist.set(color='red')\n",
    "        fig.show()\n",
    "        print ('drawn')\n",
    "    #print (TOF[index[0]])\n",
    "    return points\n",
    "fig = plt.figure()"
   ]
  },
  {
   "cell_type": "markdown",
   "metadata": {},
   "source": [
    "Loading directory for finding path to input and output files"
   ]
  },
  {
   "cell_type": "code",
   "execution_count": 4,
   "metadata": {},
   "outputs": [
    {
     "name": "stdout",
     "output_type": "stream",
     "text": [
      "/home/nolan/Astrobotics/autonomy/pylabel\n"
     ]
    }
   ],
   "source": [
    "Dir = os.path.dirname(os.path.abspath('__file__'))\n",
    "\n",
    "print (Dir)\n",
    "filename = sys.argv[1]"
   ]
  },
  {
   "cell_type": "markdown",
   "metadata": {},
   "source": [
    "TODO: change to use STin for defining filenames in command line call\n",
    "\n",
    "or change to innumerate over all files in the folder, one after the other"
   ]
  },
  {
   "cell_type": "markdown",
   "metadata": {},
   "source": [
    "Reading the values for r, theta, and intensity into separate numpy arrays"
   ]
  },
  {
   "cell_type": "code",
   "execution_count": 5,
   "metadata": {},
   "outputs": [],
   "source": [
    "r, theta, intensity = np.loadtxt(Dir+'/'+filename,delimiter=' ', skiprows=11, usecols=(0,1,2), unpack=True)"
   ]
  },
  {
   "cell_type": "markdown",
   "metadata": {},
   "source": [
    "converting r theta to x coordinates"
   ]
  },
  {
   "cell_type": "code",
   "execution_count": 6,
   "metadata": {},
   "outputs": [],
   "source": [
    "X = np.array([])\n",
    "for i in range(len(r)) :\n",
    "    value = r[i] * math.cos(theta[i])\n",
    "    #print (value)\n",
    "    X = np.append(X , value)\n",
    "#print (X)"
   ]
  },
  {
   "cell_type": "markdown",
   "metadata": {},
   "source": [
    "converting r theta to y coordinates"
   ]
  },
  {
   "cell_type": "code",
   "execution_count": 7,
   "metadata": {},
   "outputs": [],
   "source": [
    "Y = np.array([])\n",
    "for i in range(len(r)) :\n",
    "    value = r[i] * math.sin(theta[i])\n",
    "    #print (value)\n",
    "    Y = np.append(Y , value)\n",
    "#print (Y)"
   ]
  },
  {
   "cell_type": "markdown",
   "metadata": {},
   "source": [
    "populating point on X&Y axis"
   ]
  },
  {
   "cell_type": "code",
   "execution_count": 16,
   "metadata": {},
   "outputs": [
    {
     "data": {
      "image/png": "[encoded data removed]",
      "text/plain": [
       "<Figure size 432x288 with 1 Axes>"
      ]
     },
     "metadata": {
      "needs_background": "light"
     },
     "output_type": "display_data"
    }
   ],
   "source": [
    "#print (len(X))\n",
    "for i in range(len(X)):\n",
    "    plt.plot(X[i],Y[i], color='green', marker='+', markersize=1, picker=5)\n",
    "ax = plt.gca()\n",
    "ax.set_title('test')\n",
    "ax.set_facecolor('black')\n"
   ]
  },
  {
   "cell_type": "code",
   "execution_count": 9,
   "metadata": {},
   "outputs": [],
   "source": [
    "TOF = np.array([])\n",
    "for i in range(len(X)):\n",
    "    TOF = np.append(TOF, 0)"
   ]
  },
  {
   "cell_type": "code",
   "execution_count": 10,
   "metadata": {},
   "outputs": [],
   "source": [
    "fig.canvas.mpl_connect('pick_event', onpick)\n",
    "plt.show()\n",
    "timestr = time.strftime(\"%Y%m%d-%H%M%S\")\n",
    "outputarray = np.column_stack((r, theta, intensity, TOF))\n",
    "print (outputarray)\n",
    "with open(Dir+'/output/'+timestr+'output', 'w') as outfile:\n",
    "    np.savetxt(outfile, outputarray, delimiter = ' ', header='values = r, theta, intensity, yes or no')"
   ]
  }
 ],
 "metadata": {
  "kernelspec": {
   "display_name": "Python 3",
   "language": "python",
   "name": "python3"
  },
  "language_info": {
   "codemirror_mode": {
    "name": "ipython",
    "version": 3
   },
   "file_extension": ".py",
   "mimetype": "text/x-python",
   "name": "python",
   "nbconvert_exporter": "python",
   "pygments_lexer": "ipython3",
   "version": "3.7.0"
  }
 },
 "nbformat": 4,
 "nbformat_minor": 2
}
